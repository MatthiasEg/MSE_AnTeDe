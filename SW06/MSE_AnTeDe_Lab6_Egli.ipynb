{
  "cells": [
    {
      "cell_type": "markdown",
      "id": "solid-evening",
      "metadata": {
        "id": "solid-evening"
      },
      "source": [
        "![MSE Logo](https://moodle.msengineering.ch/pluginfile.php/1/core_admin/logo/0x150/1643104191/logo-mse.png)\n",
        "\n",
        "# AnTeDe Lab 6: Applications of word2vec\n",
        "## Objective\n",
        "* Compare pre-trained word2vec models with models trained on your workstation, on word similarity and analogy tasks.\t\n",
        "\n",
        "## General instructions\n",
        "* You can do the lab alone or in groups of two students.\n",
        "* Please write the required code, and also reply explicitly to the questions, as Python comments in code cells or text in markdown cells. \n",
        "* To submit your practical work, please make sure all cells are executed, then save and zip the notebook, and submit it as homework on [Moodle](https://moodle.msengineering.ch/course/view.php?id=1869).\n",
        "* Useful documentation: [section on word2vec in Gensim](https://radimrehurek.com/gensim/models/word2vec.html) as well as the [section on KeyedVectors in Gensim](https://radimrehurek.com/gensim/models/keyedvectors.html).\n",
        "* Training can be done locally if you have at least 16 GB of memory (it takes minutes, not hours), or using [Google Colab](https://colab.research.google.com/)."
      ]
    },
    {
      "cell_type": "markdown",
      "id": "incorrect-feedback",
      "metadata": {
        "id": "incorrect-feedback"
      },
      "source": [
        "## 1. Testing a word2vec model trained on Google News\n",
        "a. Install Gensim the latest version of Gensim, for instance by running in your Conda environment `pip install --upgrade gensim`. "
      ]
    },
    {
      "cell_type": "code",
      "execution_count": 1,
      "id": "concerned-richardson",
      "metadata": {
        "colab": {
          "base_uri": "https://localhost:8080/"
        },
        "id": "concerned-richardson",
        "outputId": "90b39cdb-df42-4011-e80f-a0b2c29430d2"
      },
      "outputs": [
        {
          "output_type": "stream",
          "name": "stdout",
          "text": [
            "Name: gensim\n",
            "Version: 3.6.0\n",
            "Summary: Python framework for fast Vector Space Modelling\n",
            "Home-page: http://radimrehurek.com/gensim\n",
            "Author: Radim Rehurek\n",
            "Author-email: me@radimrehurek.com\n",
            "License: LGPLv2.1\n",
            "Location: /usr/local/lib/python3.7/dist-packages\n",
            "Requires: six, numpy, scipy, smart-open\n",
            "Required-by: \n"
          ]
        }
      ],
      "source": [
        "# If you want to install from here, run the command ('!' indicates a command for the shell)\n",
        "#!pip install --upgrade gensim\n",
        "#!pip install nltk jupyter-notebook\n",
        "\n",
        "# Please run the following verification:\n",
        "!pip show gensim"
      ]
    },
    {
      "cell_type": "code",
      "execution_count": 2,
      "id": "revolutionary-mobile",
      "metadata": {
        "id": "revolutionary-mobile"
      },
      "outputs": [],
      "source": [
        "import gensim, os\n",
        "from gensim import downloader\n",
        "# help(gensim.models.word2vec) # check if you are curious, but don't include output in the final notebook"
      ]
    },
    {
      "cell_type": "code",
      "execution_count": 3,
      "id": "opposed-thirty",
      "metadata": {
        "colab": {
          "base_uri": "https://localhost:8080/",
          "height": 53
        },
        "id": "opposed-thirty",
        "outputId": "71d9ad75-a405-4b29-bbc6-49a4ba3089dd"
      },
      "outputs": [
        {
          "output_type": "stream",
          "name": "stdout",
          "text": [
            "[==================================================] 100.0% 1662.8/1662.8MB downloaded\n"
          ]
        },
        {
          "output_type": "execute_result",
          "data": {
            "text/plain": [
              "'/root/gensim-data/word2vec-google-news-300/word2vec-google-news-300.gz'"
            ],
            "application/vnd.google.colaboratory.intrinsic+json": {
              "type": "string"
            }
          },
          "metadata": {},
          "execution_count": 3
        }
      ],
      "source": [
        "# Download the model file from Gensim, for the first time only\n",
        "gensim.downloader.load(\"word2vec-google-news-300\", return_path = True)\n",
        "# We can assign the returned value to a model, but it is twice larger than needed."
      ]
    },
    {
      "cell_type": "markdown",
      "id": "structural-rescue",
      "metadata": {
        "id": "structural-rescue"
      },
      "source": [
        "b. Where is the model stored on your computer?  What is the size of the file?  Please store the absolute path in a variable called `path_to_model_file`, and use `os.path.getsize` to display the size converted in gigabytes with two decimals."
      ]
    },
    {
      "cell_type": "code",
      "execution_count": 4,
      "id": "rural-burns",
      "metadata": {
        "id": "rural-burns",
        "colab": {
          "base_uri": "https://localhost:8080/"
        },
        "outputId": "5cb7e1e7-3eba-4b50-e277-a2a823f1e7e9"
      },
      "outputs": [
        {
          "output_type": "stream",
          "name": "stdout",
          "text": [
            "1.62 GB\n"
          ]
        }
      ],
      "source": [
        "# Please write your Python code below and execute it.\n",
        "path_to_model_file = '/root/gensim-data/word2vec-google-news-300/word2vec-google-news-300.gz'\n",
        "size_in_bytes = os.path.getsize(path_to_model_file)\n",
        "size_in_gb = size_in_bytes/(1024**3)\n",
        "print(f'{size_in_gb:.2f} GB')"
      ]
    },
    {
      "cell_type": "code",
      "execution_count": 5,
      "id": "designed-cooling",
      "metadata": {
        "id": "designed-cooling"
      },
      "outputs": [],
      "source": [
        "# Load the model into the notebook:\n",
        "from gensim.models import KeyedVectors\n",
        "wv_model = gensim.models.KeyedVectors.load_word2vec_format(path_to_model_file, binary=True)  # C bin format"
      ]
    },
    {
      "cell_type": "markdown",
      "id": "transsexual-mistress",
      "metadata": {
        "id": "transsexual-mistress"
      },
      "source": [
        "c. What is the memory size of the process corresponding to this notebook?  Please simply write the value you obtain from any OS-specific utility that you wish to use for this purpose."
      ]
    },
    {
      "cell_type": "code",
      "execution_count": 7,
      "id": "recent-paper",
      "metadata": {
        "id": "recent-paper",
        "colab": {
          "base_uri": "https://localhost:8080/"
        },
        "outputId": "18321dc7-d6a5-4d21-81b4-9a23ba227345"
      },
      "outputs": [
        {
          "output_type": "stream",
          "name": "stdout",
          "text": [
            "4.1 GB\n"
          ]
        }
      ],
      "source": [
        "print('4.1 GB')"
      ]
    },
    {
      "cell_type": "markdown",
      "id": "lightweight-constraint",
      "metadata": {
        "id": "lightweight-constraint"
      },
      "source": [
        "d. What is the size of the vocabulary of this model?  (I.e., how many words does it know?)"
      ]
    },
    {
      "cell_type": "code",
      "execution_count": 9,
      "id": "cleared-organizer",
      "metadata": {
        "id": "cleared-organizer",
        "colab": {
          "base_uri": "https://localhost:8080/"
        },
        "outputId": "68210343-a8da-4901-9f0a-e8d71d397e4a"
      },
      "outputs": [
        {
          "output_type": "stream",
          "name": "stdout",
          "text": [
            "3000000\n"
          ]
        }
      ],
      "source": [
        "# Please write the Python code needed to display the vocabulary size and execute it.\n",
        "print(len(wv_model.vectors))"
      ]
    },
    {
      "cell_type": "markdown",
      "id": "stuck-wrong",
      "metadata": {
        "id": "stuck-wrong"
      },
      "source": [
        "e. Compare the vocabulary size with the number of words in an English dictionary.  How do you explain the difference?  Illustrate your explanation by showing at least 5 words which are in the model's vocabulary, and 2 that are not."
      ]
    },
    {
      "cell_type": "markdown",
      "source": [
        "On [Wikipedia](https://en.wikipedia.org/wiki/List_of_dictionaries_by_number_of_words) the english language is stated to have around 470,000 Words.\n",
        "**Words that are available are:**\n",
        "- work\n",
        "- fun\n",
        "- school\n",
        "- computer\n",
        "- english\n",
        "\n",
        "**Words not in the dict are:**\n",
        "- covid - new word appeared 2020\n",
        "- woofits  - \"A hangover.\"\n"
      ],
      "metadata": {
        "collapsed": false,
        "id": "kdIn8_lq2UY9"
      },
      "id": "kdIn8_lq2UY9"
    },
    {
      "cell_type": "code",
      "execution_count": 10,
      "id": "forty-crossing",
      "metadata": {
        "id": "forty-crossing",
        "colab": {
          "base_uri": "https://localhost:8080/"
        },
        "outputId": "5bc952d1-850f-412f-ec51-50cd155adf56"
      },
      "outputs": [
        {
          "output_type": "stream",
          "name": "stdout",
          "text": [
            "True\n",
            "True\n",
            "True\n",
            "True\n",
            "True\n",
            "False\n",
            "False\n"
          ]
        }
      ],
      "source": [
        "# Please write your Python code below and execute it.\n",
        "# words in dict\n",
        "print('work' in wv_model)\n",
        "print('fun' in wv_model)\n",
        "print('school' in wv_model)\n",
        "print('computer' in wv_model)\n",
        "print('english' in wv_model)\n",
        "\n",
        "\n",
        "# words not in dict\n",
        "print('covid' in wv_model)\n",
        "print('woofits' in wv_model)\n"
      ]
    },
    {
      "cell_type": "code",
      "execution_count": 11,
      "outputs": [
        {
          "output_type": "stream",
          "name": "stdout",
          "text": [
            "[ 1.07421875e-01 -2.01171875e-01  1.23046875e-01  2.11914062e-01\n",
            " -9.13085938e-02  2.16796875e-01 -1.31835938e-01  8.30078125e-02\n",
            "  2.02148438e-01  4.78515625e-02  3.66210938e-02 -2.45361328e-02\n",
            "  2.39257812e-02 -1.60156250e-01 -2.61230469e-02  9.71679688e-02\n",
            " -6.34765625e-02  1.84570312e-01  1.70898438e-01 -1.63085938e-01\n",
            " -1.09375000e-01  1.49414062e-01 -4.65393066e-04  9.61914062e-02\n",
            "  1.68945312e-01  2.60925293e-03  8.93554688e-02  6.49414062e-02\n",
            "  3.56445312e-02 -6.93359375e-02 -1.46484375e-01 -1.21093750e-01\n",
            " -2.27539062e-01  2.45361328e-02 -1.24511719e-01 -3.18359375e-01\n",
            " -2.20703125e-01  1.30859375e-01  3.66210938e-02 -3.63769531e-02\n",
            " -1.13281250e-01  1.95312500e-01  9.76562500e-02  1.26953125e-01\n",
            "  6.59179688e-02  6.93359375e-02  1.02539062e-02  1.75781250e-01\n",
            " -1.68945312e-01  1.21307373e-03 -2.98828125e-01 -1.15234375e-01\n",
            "  5.66406250e-02 -1.77734375e-01 -2.08984375e-01  1.76757812e-01\n",
            "  2.38037109e-02 -2.57812500e-01 -4.46777344e-02  1.88476562e-01\n",
            "  5.51757812e-02  5.02929688e-02 -1.06933594e-01  1.89453125e-01\n",
            " -1.16210938e-01  8.49609375e-02 -1.71875000e-01  2.45117188e-01\n",
            " -1.73828125e-01 -8.30078125e-03  4.56542969e-02 -1.61132812e-02\n",
            "  1.86523438e-01 -6.05468750e-02 -4.17480469e-02  1.82617188e-01\n",
            "  2.20703125e-01 -1.22558594e-01 -2.55126953e-02 -3.08593750e-01\n",
            "  9.13085938e-02  1.60156250e-01  1.70898438e-01  1.19628906e-01\n",
            "  7.08007812e-02 -2.64892578e-02 -3.08837891e-02  4.06250000e-01\n",
            " -1.01562500e-01  5.71289062e-02 -7.26318359e-03 -9.17968750e-02\n",
            " -1.50390625e-01 -2.55859375e-01  2.16796875e-01 -3.63769531e-02\n",
            "  2.24609375e-01  8.00781250e-02  1.56250000e-01  5.27343750e-02\n",
            "  1.50390625e-01 -1.14746094e-01 -8.64257812e-02  1.19140625e-01\n",
            " -7.17773438e-02  2.73437500e-01 -1.64062500e-01  7.29370117e-03\n",
            "  4.21875000e-01 -1.12792969e-01 -1.35742188e-01 -1.31835938e-01\n",
            " -1.37695312e-01 -7.66601562e-02  6.25000000e-02  4.98046875e-02\n",
            " -1.91406250e-01 -6.03027344e-02  2.27539062e-01  5.88378906e-02\n",
            " -3.24218750e-01  5.41992188e-02 -1.35742188e-01  8.17871094e-03\n",
            " -5.24902344e-02 -1.74713135e-03 -9.81445312e-02 -2.86865234e-02\n",
            "  3.61328125e-02  2.15820312e-01  5.98144531e-02 -3.08593750e-01\n",
            " -2.27539062e-01  2.61718750e-01  9.86328125e-02 -5.07812500e-02\n",
            "  1.78222656e-02  1.31835938e-01 -5.35156250e-01 -1.81640625e-01\n",
            "  1.38671875e-01 -3.10546875e-01 -9.71679688e-02  1.31835938e-01\n",
            " -1.16210938e-01  7.03125000e-02  2.85156250e-01  3.51562500e-02\n",
            " -1.01562500e-01 -3.75976562e-02  1.41601562e-01  1.42578125e-01\n",
            " -5.68847656e-02  2.65625000e-01 -2.09960938e-01  9.64355469e-03\n",
            " -6.68945312e-02 -4.83398438e-02 -6.10351562e-02  2.45117188e-01\n",
            " -9.66796875e-02  1.78222656e-02 -1.27929688e-01 -4.78515625e-02\n",
            " -7.26318359e-03  1.79687500e-01  2.78320312e-02 -2.10937500e-01\n",
            " -1.43554688e-01 -1.27929688e-01  1.73339844e-02 -3.60107422e-03\n",
            " -2.04101562e-01  3.63159180e-03 -1.19628906e-01 -6.15234375e-02\n",
            "  5.93261719e-02 -3.23486328e-03 -1.70898438e-01 -3.14941406e-02\n",
            " -8.88671875e-02 -2.89062500e-01  3.44238281e-02 -1.87500000e-01\n",
            "  2.94921875e-01  1.58203125e-01 -1.19628906e-01  7.61718750e-02\n",
            "  6.39648438e-02 -4.68750000e-02 -6.83593750e-02  1.21459961e-02\n",
            " -1.44531250e-01  4.54101562e-02  3.68652344e-02  3.88671875e-01\n",
            "  1.45507812e-01 -2.55859375e-01 -4.46777344e-02 -1.33789062e-01\n",
            " -1.38671875e-01  6.59179688e-02  1.37695312e-01  1.14746094e-01\n",
            "  2.03125000e-01 -4.78515625e-02  1.80664062e-02 -8.54492188e-02\n",
            " -2.48046875e-01 -3.39843750e-01 -2.83203125e-02  1.05468750e-01\n",
            " -2.14843750e-01 -8.74023438e-02  7.12890625e-02  1.87500000e-01\n",
            " -1.12304688e-01  2.73437500e-01 -3.26171875e-01 -1.77734375e-01\n",
            " -4.24804688e-02 -2.69531250e-01  6.64062500e-02 -6.88476562e-02\n",
            " -1.99218750e-01 -7.03125000e-02 -2.43164062e-01 -3.66210938e-02\n",
            " -7.37304688e-02 -1.77734375e-01  9.17968750e-02 -1.25000000e-01\n",
            " -1.65039062e-01 -3.57421875e-01 -2.85156250e-01 -1.66992188e-01\n",
            "  1.97265625e-01 -1.53320312e-01  2.31933594e-02  2.06054688e-01\n",
            "  1.80664062e-01 -2.74658203e-02 -1.92382812e-01 -9.61914062e-02\n",
            " -1.06811523e-02 -4.73632812e-02  6.54296875e-02 -1.25732422e-02\n",
            "  1.78222656e-02 -8.00781250e-02 -2.59765625e-01  9.37500000e-02\n",
            " -7.81250000e-02  4.68750000e-02 -2.22167969e-02  1.86767578e-02\n",
            "  3.11279297e-02  1.04980469e-02 -1.69921875e-01  2.58789062e-02\n",
            " -3.41796875e-02 -1.44042969e-02 -5.46875000e-02 -8.78906250e-02\n",
            "  1.96838379e-03  2.23632812e-01 -1.36718750e-01  1.75781250e-01\n",
            " -1.63085938e-01  1.87500000e-01  3.44238281e-02 -5.63964844e-02\n",
            " -2.27689743e-05  4.27246094e-02  5.81054688e-02 -1.07910156e-01\n",
            " -3.88183594e-02 -2.69531250e-01  3.34472656e-02  9.81445312e-02\n",
            "  5.63964844e-02  2.23632812e-01 -5.49316406e-02  1.46484375e-01\n",
            "  5.93261719e-02 -2.19726562e-01  6.39648438e-02  1.66015625e-02\n",
            "  4.56542969e-02  3.26171875e-01 -3.80859375e-01  1.70898438e-01\n",
            "  5.66406250e-02 -1.04492188e-01  1.38671875e-01 -1.57226562e-01\n",
            "  3.23486328e-03 -4.80957031e-02 -2.48046875e-01 -6.20117188e-02]\n"
          ]
        }
      ],
      "source": [
        "print(wv_model['computer'])"
      ],
      "metadata": {
        "pycharm": {
          "name": "#%%\n"
        },
        "id": "aw58ev9o2UY_",
        "colab": {
          "base_uri": "https://localhost:8080/"
        },
        "outputId": "fea71497-3a8d-43a3-9ca5-cda960604535"
      },
      "id": "aw58ev9o2UY_"
    },
    {
      "cell_type": "markdown",
      "id": "celtic-energy",
      "metadata": {
        "id": "celtic-energy"
      },
      "source": [
        "f. Determine the size of the vector space for this word2vec model, i.e. the dimensionality of the embedding space, using two methods: either using the vector of a word from the vocabulary, or directly using the shape of the model."
      ]
    },
    {
      "cell_type": "code",
      "execution_count": 12,
      "id": "ahead-newport",
      "metadata": {
        "id": "ahead-newport",
        "colab": {
          "base_uri": "https://localhost:8080/"
        },
        "outputId": "09a57ab1-ecb6-4fb3-9fd2-0e5703df774f"
      },
      "outputs": [
        {
          "output_type": "stream",
          "name": "stdout",
          "text": [
            "300\n",
            "300\n"
          ]
        }
      ],
      "source": [
        "# Please write your Python code below and execute it.\n",
        "print(len(wv_model['computer']))\n",
        "# or\n",
        "print(wv_model.vector_size)"
      ]
    },
    {
      "cell_type": "markdown",
      "id": "whole-roommate",
      "metadata": {
        "id": "whole-roommate"
      },
      "source": [
        "## 2. Using word2vec trained on Google News for word similarity\n",
        "In this section, you are going to use word vectors to compute (cosine) similarity between words (use the [KeyedVectors](https://radimrehurek.com/gensim/models/keyedvectors.html) documentation).  You will experiment with three tasks: (a) rank a small number of word pairs by decreasing similarity; (b) test the model on the WordSimilarity-353 set; (c) test the model on the analogy task."
      ]
    },
    {
      "cell_type": "markdown",
      "id": "extraordinary-conspiracy",
      "metadata": {
        "id": "extraordinary-conspiracy"
      },
      "source": [
        "a. Sort the word pairs given below by decreasing similarity (i.e. most similar first).  Display also the similarity value found by word2vec, with 2 decimals."
      ]
    },
    {
      "cell_type": "code",
      "execution_count": 13,
      "id": "caring-relationship",
      "metadata": {
        "id": "caring-relationship",
        "colab": {
          "base_uri": "https://localhost:8080/"
        },
        "outputId": "63941e5b-b4fb-48de-f80f-cbe36924b5a2"
      },
      "outputs": [
        {
          "output_type": "stream",
          "name": "stdout",
          "text": [
            "[(0.8521309, ('bike', 'bicycle')), (0.71059805, ('oil', 'gas')), (0.58541536, ('car', 'bike')), (0.5838368, ('car', 'automobile')), (0.4693371, ('car', 'bus')), (0.4666497, ('bike', 'pedal')), (0.29297784, ('car', 'pedal')), (0.14874084, ('car', 'oil'))]\n"
          ]
        }
      ],
      "source": [
        "test_pairs = [('car','automobile'), ('car', 'bike'), ('car', 'oil'), ('car', 'pedal'), \n",
        "              ('bike', 'pedal'), ('bike', 'bicycle'), ('oil', 'gas'), ('car', 'bus')]\n",
        "# Please write your Python code below and execute it.\n",
        "similarities = [(wv_model.similarity(tuple[0], tuple[1]), tuple) for tuple in test_pairs]\n",
        "similarities.sort(key=lambda x: x[0], reverse=True)\n",
        "print(similarities)"
      ]
    },
    {
      "cell_type": "markdown",
      "id": "impossible-incentive",
      "metadata": {
        "id": "impossible-incentive"
      },
      "source": [
        "b. What are the five closest words to *car* in the whole vocabulary and their similarity values with *car*? "
      ]
    },
    {
      "cell_type": "code",
      "execution_count": 14,
      "id": "baking-shock",
      "metadata": {
        "id": "baking-shock",
        "colab": {
          "base_uri": "https://localhost:8080/"
        },
        "outputId": "abeb7c2c-4fda-450d-c3dd-6c2522e38d5a"
      },
      "outputs": [
        {
          "output_type": "stream",
          "name": "stdout",
          "text": [
            "[('vehicle', 0.7821096181869507), ('cars', 0.7423830032348633), ('SUV', 0.7160962820053101), ('minivan', 0.6907036304473877), ('truck', 0.6735789775848389)]\n"
          ]
        }
      ],
      "source": [
        "wv_model.init_sims(replace=True) # run this to avoid memory footprint doubling with the first call\n",
        "# of \"most_similar\" (which caches unit vectors without replacement, unless told explicitly to do so).\n",
        "# Will have the same effect on evaluate_word_analogies below\n",
        "# Please write your Python code below and execute it.\n",
        "print(wv_model.most_similar('car', topn=5))"
      ]
    },
    {
      "cell_type": "markdown",
      "id": "requested-manner",
      "metadata": {
        "id": "requested-manner"
      },
      "source": [
        "c. Using the [KeyedVectors](https://radimrehurek.com/gensim/models/keyedvectors.html) documentation, evaluate the model on the WordSimilarity-353 task.  This compares similarities assigned to word pairs by word2vec with those assigned by humans.  Please display only the Pearson Correlation Coefficient, with two decimals."
      ]
    },
    {
      "cell_type": "code",
      "execution_count": 15,
      "id": "metallic-salmon",
      "metadata": {
        "id": "metallic-salmon",
        "colab": {
          "base_uri": "https://localhost:8080/"
        },
        "outputId": "70ce3fb2-ebfb-45f8-a3b4-9f7ee437b089"
      },
      "outputs": [
        {
          "output_type": "stream",
          "name": "stdout",
          "text": [
            "Pearson 0.623877 with p-value 1.7963285234267404e-39\n"
          ]
        }
      ],
      "source": [
        "# Please write your Python code below and execute it.\n",
        "from gensim.test.utils import datapath\n",
        "pearson, spearman, oov_ratio = wv_model.evaluate_word_pairs(datapath('wordsim353.tsv'))\n",
        "print(f'Pearson {pearson[0]:2f} with p-value {pearson[1]}')"
      ]
    },
    {
      "cell_type": "markdown",
      "id": "accessible-clone",
      "metadata": {
        "id": "accessible-clone"
      },
      "source": [
        "d. Using the [KeyedVectors](https://radimrehurek.com/gensim/models/keyedvectors.html) documentation, evaluate the model on the Analogy Tasks (e.g., \"*What is to Thailand what Athens is to Greece?*\"). The task is specified in a data file called `questions-words.txt`.  Note: this takes around 5 minutes.  Store the output in a variable for future use."
      ]
    },
    {
      "cell_type": "code",
      "execution_count": 16,
      "id": "animated-faculty",
      "metadata": {
        "id": "animated-faculty"
      },
      "outputs": [],
      "source": [
        "# Please write your Python code below and execute it.\n",
        "analogy_scores = wv_model.evaluate_word_analogies(datapath('questions-words.txt'))"
      ]
    },
    {
      "cell_type": "markdown",
      "id": "raising-harrison",
      "metadata": {
        "id": "raising-harrison"
      },
      "source": [
        "e. Using the output above, Please display the accuracy (number of correctly solved analogies), and then pick four categories of your choice, and display for each of them the accuracy, a correctly-solved analogy, and an incorrectly-solved one.  How many analogy tasks are there in total?"
      ]
    },
    {
      "cell_type": "code",
      "execution_count": 17,
      "id": "collaborative-confidence",
      "metadata": {
        "id": "collaborative-confidence",
        "colab": {
          "base_uri": "https://localhost:8080/"
        },
        "outputId": "ddb32c22-e2bc-4dd3-b188-f7c30a4fc64e"
      },
      "outputs": [
        {
          "output_type": "stream",
          "name": "stdout",
          "text": [
            "Accuracy: 0.7401448525607863\n",
            "Total of 19330\n"
          ]
        }
      ],
      "source": [
        "# Please write your Python code below and execute it.\n",
        "acc = analogy_scores[0]\n",
        "print(f'Accuracy: {acc}')\n",
        "# last element is total accuracy - so just count them together\n",
        "print(f\"Total of {(len(analogy_scores[1][-1]['correct'])+len(analogy_scores[1][-1]['incorrect']))}\")"
      ]
    },
    {
      "cell_type": "markdown",
      "id": "sorted-violin",
      "metadata": {
        "id": "sorted-violin"
      },
      "source": [
        "f. Create a short file called `questions-words-NAME.txt` (where `NAME` is your name) with several new test items for analogies (at least 10 lines), following the template of `questions-words.txt`.  For instance, from the three following pairs: (eye, see), (ear, listen), and (foot, walk) you can create 12 test items, varying the item that the system must predict and the initial items.  What is the accuracy of the model on your test set?"
      ]
    },
    {
      "cell_type": "code",
      "execution_count": 21,
      "id": "hundred-installation",
      "metadata": {
        "id": "hundred-installation",
        "colab": {
          "base_uri": "https://localhost:8080/"
        },
        "outputId": "e66a1a5f-a910-4673-e644-14c7c479126d"
      },
      "outputs": [
        {
          "output_type": "stream",
          "name": "stdout",
          "text": [
            "0.16666666666666666\n"
          ]
        }
      ],
      "source": [
        "# Please write your Python code below and execute it.\n",
        "analogy_scores_self = wv_model.evaluate_word_analogies('/content/questions-words-matthias_egli.txt')\n",
        "print(analogy_scores_self[0]) # quite bad performance"
      ]
    },
    {
      "cell_type": "markdown",
      "id": "competent-usage",
      "metadata": {
        "id": "competent-usage"
      },
      "source": [
        "## 3. Training a word2vec model from scratch\n",
        "In this section, you will first use `gensim.downloader` to retrieve a 100-million character corpus ('text8' excerpt from Wikipedia).  You will use this data to train your own word2vec model.  Then, you will test the model on word similarity and analogies tasks.\n",
        "* [documentation of gensim.downloader](https://radimrehurek.com/gensim/downloader.html)\n",
        "* [corpora and pre-trained models available from gensim-data](https://github.com/RaRe-Technologies/gensim-data) -- the list can also be accessed with the command `gensim.downloader.info()` \n",
        "\n",
        "Please run the following code first."
      ]
    },
    {
      "cell_type": "code",
      "execution_count": 22,
      "id": "satellite-interface",
      "metadata": {
        "id": "satellite-interface",
        "colab": {
          "base_uri": "https://localhost:8080/"
        },
        "outputId": "6543a844-8c27-4845-9684-0b0a00ae9d47"
      },
      "outputs": [
        {
          "output_type": "stream",
          "name": "stdout",
          "text": [
            "[==================================================] 100.0% 31.6/31.6MB downloaded\n"
          ]
        }
      ],
      "source": [
        "import gensim.downloader as api\n",
        "text8_corpus = api.load('text8') # Downloads file once if needed -- if not, loads it from local copy."
      ]
    },
    {
      "cell_type": "markdown",
      "id": "august-meaning",
      "metadata": {
        "id": "august-meaning"
      },
      "source": [
        "a. How many words are there in the 'text8' corpus?"
      ]
    },
    {
      "cell_type": "code",
      "execution_count": 23,
      "id": "another-vatican",
      "metadata": {
        "id": "another-vatican",
        "colab": {
          "base_uri": "https://localhost:8080/"
        },
        "outputId": "178b5feb-1d71-4542-ce85-239469f66b2b"
      },
      "outputs": [
        {
          "output_type": "stream",
          "name": "stdout",
          "text": [
            "Unique words: \t253854\n",
            "All words: \t\t17005207\n"
          ]
        }
      ],
      "source": [
        "# Please write your Python code below and execute it.\n",
        "words_set = set()\n",
        "words = []\n",
        "[words_set.add(word)for sentence in text8_corpus for word in sentence]\n",
        "[words.append(word)for sentence in text8_corpus for word in sentence]\n",
        "print(f'Unique words: \\t{len(words_set)}')\n",
        "print(f'All words: \\t\\t{len(words)}')"
      ]
    },
    {
      "cell_type": "markdown",
      "id": "steady-brown",
      "metadata": {
        "id": "steady-brown"
      },
      "source": [
        "b. Using the [documentation of Gensim's Word2Vec class](https://radimrehurek.com/gensim/models/word2vec.html), train your own word2vec model with 100-dimensional embeddings using 'text8'.  How many seconds does this take? (Use the difference between start and end times obtained with `time.time()`.)"
      ]
    },
    {
      "cell_type": "code",
      "execution_count": 25,
      "id": "blond-semiconductor",
      "metadata": {
        "id": "blond-semiconductor",
        "colab": {
          "base_uri": "https://localhost:8080/"
        },
        "outputId": "25de9eac-bd57-4eb8-f2fc-5810b6961afc"
      },
      "outputs": [
        {
          "output_type": "stream",
          "name": "stdout",
          "text": [
            "Duration is 127.64 seconds\n"
          ]
        }
      ],
      "source": [
        "import time\n",
        "from gensim.models import Word2Vec\n",
        "# Please write your Python code below and execute it.\n",
        "start = time.time()\n",
        "model = Word2Vec(sentences=text8_corpus, window=5, min_count=1, workers=8)\n",
        "end = time.time()\n",
        "duration = end - start\n",
        "print(f'Duration is {duration:.2f} seconds')"
      ]
    },
    {
      "cell_type": "markdown",
      "id": "tribal-viking",
      "metadata": {
        "id": "tribal-viking"
      },
      "source": [
        "c. Using your code from Section 1, what are the vocabulary size and the dimensionality of the embedding space of this model?"
      ]
    },
    {
      "cell_type": "code",
      "execution_count": 26,
      "id": "average-toolbox",
      "metadata": {
        "id": "average-toolbox",
        "colab": {
          "base_uri": "https://localhost:8080/"
        },
        "outputId": "d3dfa152-3766-4516-e9f6-8312f8aa1dd8"
      },
      "outputs": [
        {
          "output_type": "stream",
          "name": "stdout",
          "text": [
            "vocabulary size: 253854\n",
            "vector size: 100\n"
          ]
        }
      ],
      "source": [
        "# Please write the Python code needed to display the vocabulary size and execute it.\n",
        "\n",
        "print(f'vocabulary size: {len(model.wv.vectors)}')\n",
        "print(f'vector size: {model.wv.vector_size}')"
      ]
    },
    {
      "cell_type": "markdown",
      "id": "complex-respondent",
      "metadata": {
        "id": "complex-respondent"
      },
      "source": [
        "d. Please read the \"*Usage examples*\" of the [Word2Vec class](https://radimrehurek.com/gensim/models/word2vec.html) to understand the difference between saving the full Word2Vec model (which enables future retraining on additional data) or saving only the vectors, an instance of KeyedVectors, which will save space.  Now, (1) save the vectors only, (2) load the vectors into a new variable, and (if everything worked fine), (3) delete the old model variable from the notebook's memory using `del`.  Note: saving the vectors may create one or more files, depending on the size of the model."
      ]
    },
    {
      "cell_type": "code",
      "execution_count": 27,
      "id": "standard-development",
      "metadata": {
        "id": "standard-development"
      },
      "outputs": [],
      "source": [
        "# Please write your Python code below and execute it.\n",
        "word_vectors = model.wv\n",
        "word_vectors.save(\"mymodel.wordvectors\")\n",
        "\n",
        "del model"
      ]
    },
    {
      "cell_type": "code",
      "execution_count": 28,
      "outputs": [],
      "source": [
        "wv_text8 = KeyedVectors.load(\"mymodel.wordvectors\", mmap='r')"
      ],
      "metadata": {
        "pycharm": {
          "name": "#%%\n"
        },
        "id": "qpqhQUVm2UZO"
      },
      "id": "qpqhQUVm2UZO"
    },
    {
      "cell_type": "markdown",
      "id": "backed-modern",
      "metadata": {
        "id": "backed-modern"
      },
      "source": [
        "e. Evaluate the new model on WordSimilarity-353 and Analogies tasks, reusing your code from above.  How does this model compare with the one trained on Google News?  Why?"
      ]
    },
    {
      "cell_type": "code",
      "execution_count": 29,
      "id": "domestic-evaluation",
      "metadata": {
        "id": "domestic-evaluation",
        "colab": {
          "base_uri": "https://localhost:8080/"
        },
        "outputId": "8ca72231-acd0-44c4-d654-c10d0df36832"
      },
      "outputs": [
        {
          "output_type": "stream",
          "name": "stdout",
          "text": [
            "Pearson 0.582022 with p-value 2.166884829623365e-33\n"
          ]
        }
      ],
      "source": [
        "#wv_text8.init_sims(replace=True) # see (2b) but less important as the model is much smaller\n",
        "\n",
        "# Please write your Python code below and execute it.\n",
        "\n",
        "pearson2, spearman2, oov_ratio2 = wv_text8.evaluate_word_pairs(datapath('wordsim353.tsv'))\n",
        "print(f'Pearson {pearson2[0]:2f} with p-value {pearson2[1]}')\n",
        "\n",
        "analogy_scores2 = wv_text8.evaluate_word_analogies(datapath('questions-words.txt'))\n",
        "\n"
      ]
    },
    {
      "cell_type": "code",
      "execution_count": 30,
      "outputs": [
        {
          "output_type": "stream",
          "name": "stdout",
          "text": [
            "Accuracy: 0.2051188108447608\n",
            "Total of 19106\n"
          ]
        }
      ],
      "source": [
        "acc2 = analogy_scores2[0]\n",
        "print(f'Accuracy: {acc2}')\n",
        "# last element is total accuracy - so just count them together\n",
        "print(f\"Total of {(len(analogy_scores2[1][-1]['correct'])+len(analogy_scores2[1][-1]['incorrect']))}\")"
      ],
      "metadata": {
        "pycharm": {
          "name": "#%%\n"
        },
        "id": "wBN_WzcX2UZQ",
        "colab": {
          "base_uri": "https://localhost:8080/"
        },
        "outputId": "ac62a6fb-3d69-40f4-ba50-759ad35dc65b"
      },
      "id": "wBN_WzcX2UZQ"
    },
    {
      "cell_type": "code",
      "execution_count": 31,
      "id": "dramatic-celtic",
      "metadata": {
        "id": "dramatic-celtic"
      },
      "outputs": [],
      "source": [
        "# Please write below a short comment to compare the 'Text8' model with the'Google News' model."
      ]
    },
    {
      "cell_type": "markdown",
      "source": [
        "The Pearson correlation of this model is about 3% worse than the original model trained on Google News. Regarding the analogy task, the self-trained model is about 10% worse, which I think can be explained by a significant reduction in vectors representing words in the vector space."
      ],
      "metadata": {
        "collapsed": false,
        "id": "DxbJggDg2UZR"
      },
      "id": "DxbJggDg2UZR"
    },
    {
      "cell_type": "markdown",
      "id": "original-incident",
      "metadata": {
        "id": "original-incident"
      },
      "source": [
        "f. Compare the accuracies on the analogy tasks of the two models for each category of tasks.  For which category are accuracies the most similar.  Can you explain this?"
      ]
    },
    {
      "cell_type": "code",
      "execution_count": 32,
      "id": "comfortable-prospect",
      "metadata": {
        "id": "comfortable-prospect",
        "colab": {
          "base_uri": "https://localhost:8080/"
        },
        "outputId": "1e1e1695-a011-4868-c0c3-d69e7687ffa7"
      },
      "outputs": [
        {
          "output_type": "stream",
          "name": "stdout",
          "text": [
            "[('capital-common-countries', 0.8320158102766798, 0.25296442687747034), ('capital-world', 0.8131868131868132, 0.08823529411764706), ('currency', 0.28465346534653463, 0.03117782909930716), ('city-in-state', 0.72111876773409, 0.09039319010944467), ('family', 0.8616600790513834, 0.5059288537549407), ('gram1-adjective-to-adverb', 0.2923387096774194, 0.08165322580645161), ('gram2-opposite', 0.43472906403940886, 0.06527093596059114), ('gram3-comparative', 0.9129129129129129, 0.5555555555555556), ('gram4-superlative', 0.8796791443850267, 0.1844758064516129), ('gram5-present-participle', 0.7850378787878788, 0.2481060606060606), ('gram6-nationality-adjective', 0.9018136335209506, 0.4152595372107567), ('gram7-past-tense', 0.6538461538461539, 0.2064102564102564), ('gram8-plural', 0.8701201201201201, 0.30855855855855857), ('gram9-plural-verbs', 0.6816091954022988, 0.2264367816091954), ('Total accuracy', 0.7401448525607863, 0.2051188108447608)]\n",
            "Highest similarity:\n",
            "('gram1-adjective-to-adverb', 0.2923387096774194, 0.08165322580645161)\n"
          ]
        }
      ],
      "source": [
        "# Please write your Python code below and execute it.\n",
        "data = []\n",
        "for i, score in enumerate(analogy_scores[1]):\n",
        "    data.append((analogy_scores[1][i]['section'],\n",
        "     len(analogy_scores[1][i]['correct'])/(len(analogy_scores[1][i]['correct'])+len(analogy_scores[1][i]['incorrect'])),\n",
        "     len(analogy_scores2[1][i]['correct'])/(len(analogy_scores2[1][i]['correct'])+len(analogy_scores2[1][i]['incorrect']))))\n",
        "print(data)\n",
        "data.sort(key=lambda x: x[1]-x[2])\n",
        "print('Highest similarity:')\n",
        "print(data[0])"
      ]
    },
    {
      "cell_type": "markdown",
      "source": [
        "The highest similarity in the accuracy is in the `gram1-adjective-to-adver` - a wild guess is that the similarity is the biggest because the accuracy on the google news trained model is very low."
      ],
      "metadata": {
        "collapsed": false,
        "id": "nwTH_0LV2UZS"
      },
      "id": "nwTH_0LV2UZS"
    },
    {
      "cell_type": "markdown",
      "id": "numeric-sunday",
      "metadata": {
        "id": "numeric-sunday"
      },
      "source": [
        "## 4. Compare the two models on your own analogy tasks\n",
        "In this section, you will evaluate the new model on the analogy tasks you defined in Section 2f.  You will then try to diagnose the performance by inspecting the word vectors.\n",
        "\n",
        "a. Reusing the code from above, what is the accuracy of the model trained on Text 8 on your analogy tasks from 2f?"
      ]
    },
    {
      "cell_type": "code",
      "execution_count": 39,
      "id": "functional-control",
      "metadata": {
        "id": "functional-control",
        "colab": {
          "base_uri": "https://localhost:8080/"
        },
        "outputId": "8a88fafa-4914-4b02-9f34-b2fd498fcce3"
      },
      "outputs": [
        {
          "output_type": "stream",
          "name": "stdout",
          "text": [
            "0.16666666666666666\n"
          ]
        }
      ],
      "source": [
        "# Please write your Python code below and execute it.\n",
        "analogy_scores_self_model_text8 = wv_text8.evaluate_word_analogies('questions-words-matthias_egli.txt')\n",
        "print(analogy_scores_self[0])"
      ]
    },
    {
      "cell_type": "markdown",
      "id": "adverse-oxford",
      "metadata": {
        "id": "adverse-oxford"
      },
      "source": [
        "b. We are now going to visualize the word vectors for the words in your analogy task.  Store the list of words in a variable and check which ones are in the vocabulary; create a new variable with them."
      ]
    },
    {
      "cell_type": "code",
      "execution_count": 46,
      "id": "informative-learning",
      "metadata": {
        "id": "informative-learning"
      },
      "outputs": [],
      "source": [
        "# Please write your Python code below and execute it.\n",
        "# not all words available: words = ['Airplane', 'Fly', 'Car', 'Drive', 'Human', 'Run']\n",
        "words = ['switzerland', 'cheese', 'italy', 'pizza', 'usa', 'burger']\n"
      ]
    },
    {
      "cell_type": "markdown",
      "id": "activated-marine",
      "metadata": {
        "id": "activated-marine"
      },
      "source": [
        "c. The function below will help you plot a 2D representation of the word vectors using [PCA from scikit.learn](https://scikit-learn.org/stable/modules/generated/sklearn.decomposition.PCA.html).  (It is also possible to use [UMAP](https://umap-learn.readthedocs.io/en/latest/basic_usage.html) instead of PCA in display_scatterplot).  Please display the word vectors for your model trained on Text8, and then for the model trained on Google News.  Please comment on the differences. "
      ]
    },
    {
      "cell_type": "code",
      "execution_count": 47,
      "id": "demographic-rabbit",
      "metadata": {
        "id": "demographic-rabbit"
      },
      "outputs": [],
      "source": [
        "from sklearn.decomposition import PCA\n",
        "import matplotlib.pyplot as plt\n",
        "%matplotlib inline"
      ]
    },
    {
      "cell_type": "code",
      "execution_count": 48,
      "id": "starting-catholic",
      "metadata": {
        "id": "starting-catholic"
      },
      "outputs": [],
      "source": [
        "def display_scatterplot(model, words): # assumes all words are in the vocabulary\n",
        "    word_vectors = [model[word] for word in words]\n",
        "    twodim = PCA().fit_transform(word_vectors)[:,:2]\n",
        "    plt.figure(figsize=(6,6))\n",
        "    plt.scatter(twodim[:,0], twodim[:,1], edgecolors='k', c='r')\n",
        "    for word, (x,y) in zip(words, twodim):\n",
        "        plt.text(x + 0.03, y + 0.03, word)"
      ]
    },
    {
      "cell_type": "code",
      "execution_count": 49,
      "id": "innovative-portal",
      "metadata": {
        "id": "innovative-portal",
        "colab": {
          "base_uri": "https://localhost:8080/",
          "height": 374
        },
        "outputId": "1fa1bb42-1f65-4d2a-e2ff-7b33e410f576"
      },
      "outputs": [
        {
          "output_type": "display_data",
          "data": {
            "text/plain": [
              "<Figure size 432x432 with 1 Axes>"
            ],
            "image/png": "[encoded data removed]"
          },
          "metadata": {
            "needs_background": "light"
          }
        }
      ],
      "source": [
        "# Please write your Python code below and execute it.\n",
        "display_scatterplot(wv_text8, words)"
      ]
    },
    {
      "cell_type": "code",
      "execution_count": 50,
      "id": "unlikely-jackson",
      "metadata": {
        "id": "unlikely-jackson",
        "colab": {
          "base_uri": "https://localhost:8080/",
          "height": 377
        },
        "outputId": "68351251-d1e8-46ab-ce1b-762b327f8220"
      },
      "outputs": [
        {
          "output_type": "display_data",
          "data": {
            "text/plain": [
              "<Figure size 432x432 with 1 Axes>"
            ],
            "image/png": "[encoded data removed]"
          },
          "metadata": {
            "needs_background": "light"
          }
        }
      ],
      "source": [
        "# Please write your Python code below and execute it.\n",
        "display_scatterplot(wv_model, words)"
      ]
    },
    {
      "cell_type": "markdown",
      "id": "pharmaceutical-lyric",
      "metadata": {
        "id": "pharmaceutical-lyric"
      },
      "source": [
        "## End of Lab 6\n",
        "Please make sure all cells have been executed, save this completed notebook, compress it to a *zip* file, and upload it to [Moodle](https://moodle.msengineering.ch/course/view.php?id=1869)."
      ]
    }
  ],
  "metadata": {
    "kernelspec": {
      "display_name": "Python 3 (ipykernel)",
      "language": "python",
      "name": "python3"
    },
    "language_info": {
      "codemirror_mode": {
        "name": "ipython",
        "version": 3
      },
      "file_extension": ".py",
      "mimetype": "text/x-python",
      "name": "python",
      "nbconvert_exporter": "python",
      "pygments_lexer": "ipython3",
      "version": "3.10.4"
    },
    "colab": {
      "name": "MSE_AnTeDe_Lab6_Egli.ipynb",
      "provenance": [],
      "machine_shape": "hm"
    },
    "accelerator": "GPU"
  },
  "nbformat": 4,
  "nbformat_minor": 5
}