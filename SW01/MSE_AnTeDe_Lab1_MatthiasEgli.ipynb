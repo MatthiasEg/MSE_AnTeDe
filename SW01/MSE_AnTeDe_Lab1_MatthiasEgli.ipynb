{
  "cells": [
    {
      "cell_type": "markdown",
      "metadata": {
        "id": "GimsnoNQH2-W"
      },
      "source": [
        "![MSE Logo](https://moodle.msengineering.ch/pluginfile.php/1/core_admin/logo/0x150/1643104191/logo-mse.png)\n",
        "\n",
        "# AnTeDe Lab 1: Text Segmentation with NLTK\n",
        "\n",
        "## Objectives\n",
        "The goal of the first [AnTeDe](https://moodle.msengineering.ch/course/view.php?id=1869) lab is to run simple operations for text analysis using the [NLTK](http://www.nltk.org/) toolkit.  You will use the environment that you set up following the instructions of the previous notebook: [Python 3](https://www.python.org/) with [Jupyter](https://jupyter.org/) notebooks.  \n",
        "\n",
        "You will use NLTK functions to get texts from the web and segment (split) them into sentences and words (also called *tokens*).  You will also experiment with extracting statistics about the texts.\n",
        "\n",
        "To submit your practical work, please execute anew all cells of this notebook via \"Runtime > Restart and run all\", then save it, zip it, and submit it as homework on the [AnTeDe Moodle page](https://moodle.msengineering.ch/course/view.php?id=1869)."
      ]
    },
    {
      "cell_type": "markdown",
      "metadata": {
        "id": "9ZMUajnqH2-Y"
      },
      "source": [
        "## NLTK: the Natural Language (Processing) Toolkit\n",
        "\n",
        "Please add NLTK to your Python installation, by following the installation instructions at the [NLTK website](http://www.nltk.org/install.html).  A good way to get started is to look at [Chapter 1](http://www.nltk.org/book/ch01.html) of the [NLTK book (NLP with Python)](http://www.nltk.org/book/) and to try some of the instructions there.  \n",
        "\n",
        "The online edition is updated for Python 3, but the printed book, also available in PDF on some websites, is only for Python 2 ([Natural Language Processing with Python: Analyzing Text with the Natural Language Toolkit, Steven Bird, Ewan Klein, and Edward Loper, O'Reilly Media, 2009](http://shop.oreilly.com/product/9780596516499.do)). \n",
        "\n",
        "To use NLTK in Jupyter, all you need is to `import nltk` before you need it.  You must use the prefix `nltk.` unless you write for instance: `from nltk.book import *` which will import and define several text collections (a.k.a corpora).  NLTK can download from the associated website a large number of corpora.  NLTK has a download manager which can be called from a Python interpreter (not a notebook) using `nltk.download()`."
      ]
    },
    {
      "cell_type": "code",
      "execution_count": 10,
      "metadata": {
        "id": "Ag3NhzenH2-Z"
      },
      "outputs": [
        {
          "name": "stderr",
          "output_type": "stream",
          "text": [
            "[nltk_data] Downloading package punkt to\n",
            "[nltk_data]     C:\\Users\\Matthias\\AppData\\Roaming\\nltk_data...\n",
            "[nltk_data]   Package punkt is already up-to-date!\n"
          ]
        },
        {
          "data": {
            "text/plain": [
              "True"
            ]
          },
          "execution_count": 10,
          "metadata": {},
          "output_type": "execute_result"
        }
      ],
      "source": [
        "import nltk\n",
        "#from nltk.book import *\n",
        "\n",
        "nltk.download('punkt')"
      ]
    },
    {
      "cell_type": "markdown",
      "metadata": {
        "id": "QGG1sLKbH2-a"
      },
      "source": [
        "To verify your NLTK library, please define a list of words called `sentence1`, print its length (`len()`) and use `nltk.bigrams` to generate all bigrams from it, i.e. pairs of consecutive words.  You can see an example in [Sec. 3.3 of Ch. 1 of the NLTK book](http://www.nltk.org/book/ch01.html#collocations-and-bigrams).  Please also sort bigrams alphabetically."
      ]
    },
    {
      "cell_type": "code",
      "execution_count": 11,
      "metadata": {
        "id": "dS63kYeKH2-b"
      },
      "outputs": [
        {
          "name": "stdout",
          "output_type": "stream",
          "text": [
            "len(sentence1) = 5\n",
            "Sorted bigrams: [('are', 'some'), ('hello', 'these'), ('some', 'words'), ('these', 'are')]\n"
          ]
        }
      ],
      "source": [
        "sentence1: list[str] = ['hello', 'these', 'are', 'some', 'words']\n",
        "\n",
        "print(f'{len(sentence1) = }')\n",
        "\n",
        "bigram_generator = nltk.bigrams(sentence1)\n",
        "bigrams = list(bigram_generator)\n",
        "print(f'Sorted bigrams: {sorted(bigrams)}')\n"
      ]
    },
    {
      "cell_type": "markdown",
      "metadata": {
        "id": "yRgCwOVoH2-b"
      },
      "source": [
        "## Using NLTK to download, tokenize, and save a text\n",
        "\n",
        "Using inspiration from [Chapter 3 (3.1. Processing Raw Text) of the NLTK book](http://www.nltk.org/book/ch03.html), get a book from the Gutenberg Project in text format.   What is its length? Are these bytes or characters? If you are curious about \"special\" characters, you can refer to [Python's documentation of Unicode support](https://docs.python.org/3.8/howto/unicode.html).)"
      ]
    },
    {
      "cell_type": "code",
      "execution_count": 12,
      "metadata": {
        "id": "6w29v3SIH2-c"
      },
      "outputs": [
        {
          "name": "stdout",
          "output_type": "stream",
          "text": [
            "len(raw) = 1176812\n",
            "<class 'str'>\n",
            "Type of response is bytes!\n"
          ]
        }
      ],
      "source": [
        "from urllib import request\n",
        "url = \"http://www.gutenberg.org/files/2554/2554-0.txt\"\n",
        "response = request.urlopen(url)\n",
        "raw = response.read().decode('utf8')\n",
        "\n",
        "print(f'{len(raw) = }')\n",
        "print(type(raw))\n",
        "print('Type of response is bytes!')\n"
      ]
    },
    {
      "cell_type": "markdown",
      "metadata": {
        "id": "2hLbEzd8H2-d"
      },
      "source": [
        "We now want to keep only the meaningful text from the book, without the header and the final license. Determine, either by spotting the position of certain initial and final strings, or simply by trial and error, how much your should trim from the beginning and from the end in order to keep only the actual text of the book. Then save the result into a new string. What is its length?"
      ]
    },
    {
      "cell_type": "code",
      "execution_count": 13,
      "metadata": {
        "id": "IwQqhSF-H2-e"
      },
      "outputs": [
        {
          "name": "stdout",
          "output_type": "stream",
          "text": [
            "Length of actual text: len(book_text) = 1152503\n"
          ]
        }
      ],
      "source": [
        "def find_nth(text, needle, n):\n",
        "    start = text.find(needle)\n",
        "    while start >= 0 and n > 1:\n",
        "        start = text.find(needle, start+len(needle))\n",
        "        n -= 1\n",
        "    return start\n",
        "\n",
        "\n",
        "starting_index = find_nth(raw, 'CRIME AND PUNISHMENT', 3)\n",
        "ending_index = raw.find(\n",
        "    '*** END OF THE PROJECT GUTENBERG EBOOK CRIME AND PUNISHMENT ***')\n",
        "\n",
        "book_text = raw[starting_index:ending_index-1]\n",
        "print(f'Length of actual text: {len(book_text) = }')\n"
      ]
    },
    {
      "cell_type": "markdown",
      "metadata": {
        "id": "8-GwINuJH2-e"
      },
      "source": [
        "We will first segment the text into sentences, then tokenize each sentence, i.e. segment it into tokens (words and punctuations).  We can also tokenize the entire text without segmenting it into sentences first.  We will use the following NLTK functions:\n",
        "* `nltk.sent_tokenize(...)` (documented [here](https://www.nltk.org/api/nltk.tokenize.html#nltk.tokenize.word_tokenize)) (usually, only word segmentation is called *tokenization*, but NLTK uses this name for both functions)\n",
        "* `nltk.word_tokenize(...)` (documented [here](https://www.nltk.org/api/nltk.tokenize.html#nltk.tokenize.sent_tokenize))"
      ]
    },
    {
      "cell_type": "markdown",
      "metadata": {
        "id": "-76P-hwbH2-f"
      },
      "source": [
        "**Segment the text into sentences with NLTK,** display the number of sentences, and display five sentences.  What do you think about the quality of the segmentation?  If you think that some special characters degrade the results, you can go back and replace them in the full text with `.replace('s1', 's2')`."
      ]
    },
    {
      "cell_type": "code",
      "execution_count": 14,
      "metadata": {
        "id": "B9bxbvG_H2-f",
        "scrolled": true
      },
      "outputs": [],
      "source": [
        "sentences = nltk.sent_tokenize(book_text)"
      ]
    },
    {
      "cell_type": "code",
      "execution_count": 15,
      "metadata": {},
      "outputs": [
        {
          "name": "stdout",
          "output_type": "stream",
          "text": [
            "Number of sentences = 11906\n",
            "5 random sentences:\n",
            "Sentence 1: This is no place for you in the crowd.\n",
            "\n",
            "Sentence 2: The horses are young and ready to take fright... they started,\n",
            "he screamed... that made them worse.\n",
            "\n",
            "Sentence 3: Mitka!\n",
            "\n",
            "Sentence 4: It was a\n",
            "long while since he had received a letter, but another feeling also\n",
            "suddenly stabbed his heart.\n",
            "\n",
            "Sentence 5: He read it all in her face; so she\n",
            "must have had that thought already, perhaps many times, and earnestly\n",
            "she had thought out in her despair how to end it and so earnestly, that\n",
            "now she scarcely wondered at his suggestion.\n",
            "\n"
          ]
        }
      ],
      "source": [
        "import random\n",
        "print(f'Number of sentences = {len(sentences)}')\n",
        "\n",
        "five_random_picks = [random.randint(0, len(sentences)) for _ in range(5)]\n",
        "five_random_sentences = [sentences[pick] for pick in five_random_picks]\n",
        "\n",
        "print(f'5 random sentences:')\n",
        "for i, sentence in enumerate(five_random_sentences):\n",
        "    print(f'Sentence {i + 1}: {sentence}\\n')"
      ]
    },
    {
      "cell_type": "code",
      "execution_count": 16,
      "metadata": {
        "id": "5bdKY41aH2-g"
      },
      "outputs": [],
      "source": [
        "# # If needed, here is how to save the result, with one sentence per line.\n",
        "# import os\n",
        "# filename1 = \"sample_text_1.txt\"\n",
        "# # For a local file, this is the relative path with respect to the notebook\n",
        "# # In Colab, use a path like this: /content/gdrive/My Drive/sample_text_1.txt\n",
        "# if os.path.exists(filename1): \n",
        "#     os.remove(filename1)\n",
        "# fd = open(filename1, 'a', encoding='utf8')\n",
        "# for s in sentences1:\n",
        "#     fd.write(s + '\\r\\n')\n",
        "# fd.close()"
      ]
    },
    {
      "cell_type": "markdown",
      "metadata": {
        "id": "5pVlyUJIH2-g"
      },
      "source": [
        "**Segment each sentence into tokens (i.e., words and punctuations),**  store the result in a new variable (a list of lists), and display the same five sentences as above."
      ]
    },
    {
      "cell_type": "code",
      "execution_count": 17,
      "metadata": {
        "id": "7N7m-3rzH2-g"
      },
      "outputs": [
        {
          "name": "stdout",
          "output_type": "stream",
          "text": [
            "Tokenized sentence 1: ['This', 'is', 'no', 'place', 'for', 'you', 'in', 'the', 'crowd', '.']\n",
            "Tokenized sentence 2: ['The', 'horses', 'are', 'young', 'and', 'ready', 'to', 'take', 'fright', '...', 'they', 'started', ',', 'he', 'screamed', '...', 'that', 'made', 'them', 'worse', '.']\n",
            "Tokenized sentence 3: ['Mitka', '!']\n",
            "Tokenized sentence 4: ['It', 'was', 'a', 'long', 'while', 'since', 'he', 'had', 'received', 'a', 'letter', ',', 'but', 'another', 'feeling', 'also', 'suddenly', 'stabbed', 'his', 'heart', '.']\n",
            "Tokenized sentence 5: ['He', 'read', 'it', 'all', 'in', 'her', 'face', ';', 'so', 'she', 'must', 'have', 'had', 'that', 'thought', 'already', ',', 'perhaps', 'many', 'times', ',', 'and', 'earnestly', 'she', 'had', 'thought', 'out', 'in', 'her', 'despair', 'how', 'to', 'end', 'it', 'and', 'so', 'earnestly', ',', 'that', 'now', 'she', 'scarcely', 'wondered', 'at', 'his', 'suggestion', '.']\n"
          ]
        }
      ],
      "source": [
        "tokens_per_sentence = [nltk.word_tokenize(sentence) for sentence in sentences]\n",
        "\n",
        "for i, pick in enumerate(five_random_picks):\n",
        "    print(f'Tokenized sentence {i+1}: {tokens_per_sentence[pick]}')\n"
      ]
    },
    {
      "cell_type": "markdown",
      "metadata": {
        "id": "I2a7KrxzH2-g"
      },
      "source": [
        "How many tokens are there in total?"
      ]
    },
    {
      "cell_type": "code",
      "execution_count": 18,
      "metadata": {
        "id": "xQzJLuD8H2-h"
      },
      "outputs": [
        {
          "data": {
            "text/plain": [
              "252743"
            ]
          },
          "execution_count": 18,
          "metadata": {},
          "output_type": "execute_result"
        }
      ],
      "source": [
        "total_tokens = sum(len(sentence) for sentence in tokens_per_sentence)\n",
        "total_tokens"
      ]
    },
    {
      "cell_type": "markdown",
      "metadata": {
        "id": "zaU-xr8lH2-h"
      },
      "source": [
        "**Tokenize the initial text without segmenting it into sentences,** and compare the resulting total number of tokens with the one obtained above."
      ]
    },
    {
      "cell_type": "code",
      "execution_count": 19,
      "metadata": {
        "id": "XJRBnP25H2-h"
      },
      "outputs": [
        {
          "data": {
            "text/plain": [
              "252743"
            ]
          },
          "execution_count": 19,
          "metadata": {},
          "output_type": "execute_result"
        }
      ],
      "source": [
        "tokens_from_complete_text = nltk.word_tokenize(book_text)\n",
        "len(tokens_from_complete_text)\n"
      ]
    },
    {
      "cell_type": "markdown",
      "metadata": {
        "id": "jZbwoUvRH2-h"
      },
      "source": [
        "**Find the size of the vocabulary of your text** (the unique *word types*) by converting the list of words (the *tokens*) to a Python `set`.  Note that these *types* include punctuations and other symbols found through tokenization, and upper/lower case letters are different.  Display all words longer than 15 characters and not containing a hyphen (-)."
      ]
    },
    {
      "cell_type": "code",
      "execution_count": 20,
      "metadata": {
        "id": "LvxJfuUwH2-i"
      },
      "outputs": [
        {
          "data": {
            "text/plain": [
              "['disproportionately',\n",
              " 'indistinguishable',\n",
              " 'indiscriminately',\n",
              " '_psychologically_',\n",
              " 'disproportionate',\n",
              " 'superciliousness',\n",
              " 'enthusiastically',\n",
              " 'circumstantially',\n",
              " 'misunderstanding']"
            ]
          },
          "execution_count": 20,
          "metadata": {},
          "output_type": "execute_result"
        }
      ],
      "source": [
        "# Please write your Python code in this cell and execute it.\n",
        "unique_words = set(tokens_from_complete_text)\n",
        "\n",
        "unique_words_matching_constraints = [word for word in unique_words if len(word) > 15 and '-' not in word]\n",
        "unique_words_matching_constraints"
      ]
    },
    {
      "cell_type": "markdown",
      "metadata": {
        "id": "a5-QuhsgH2-i"
      },
      "source": [
        "**What is the type-token ratio (TTR) of your text?**"
      ]
    },
    {
      "cell_type": "code",
      "execution_count": 21,
      "metadata": {
        "id": "5STe03vcH2-i"
      },
      "outputs": [
        {
          "name": "stdout",
          "output_type": "stream",
          "text": [
            "Type to token ratio:  0.043581820268019295\n"
          ]
        }
      ],
      "source": [
        "print(\"Type to token ratio: \", len(unique_words)/len(tokens_from_complete_text))"
      ]
    },
    {
      "cell_type": "markdown",
      "metadata": {
        "id": "Bdaw2_7lH2-i"
      },
      "source": [
        "## Computing statistics with NLTK\n",
        "You can create a `nltk.Text` object from the tokens of the text, without sentence segmentation.  This enables you  to compute statistics using NLTK functions.  [Chapter 1 of the NLTK book](http://www.nltk.org/book/ch01.html) provides examples of operations than can be done on texts.\n",
        "\n",
        "NLTK Texts can in fact store one of the following text formats:\n",
        "1. a string;\n",
        "2. the list of all words (list of strings);\n",
        "3. the list of all sentences (list of lists of strings).\n",
        "\n",
        "However, only option (2) allows the correct use of counting methods for NLTK Texts.   Note that `nltk.word_tokenize()` and `nltk.sent_tokenize()` only apply to strings, not to `ntlk.Text` objects, even if they store a string."
      ]
    },
    {
      "cell_type": "markdown",
      "metadata": {
        "id": "ZaCM2aS-H2-j"
      },
      "source": [
        "**Create a `nltk.Text` object** from the tokenized version of your text (without sentence segmentation)."
      ]
    },
    {
      "cell_type": "code",
      "execution_count": 22,
      "metadata": {
        "id": "S3V7ypWlH2-j"
      },
      "outputs": [],
      "source": [
        "nltk_text = nltk.Text(tokens_from_complete_text)\n"
      ]
    },
    {
      "cell_type": "markdown",
      "metadata": {
        "id": "bHDHld3pH2-j"
      },
      "source": [
        "NLTK can compute word frequencies for a given text, yielding a new object called a frequency distribution (`FreqDist`): see [Sec. 3.1 of Ch. 1 of the NLTK book](http://www.nltk.org/book/ch01.html#frequency-distributions).  Using such an object, we can get the most frequent words.  \n",
        "\n",
        "**Construct the frequency distribution** of your text and use the `most_common` method of the object to display words longer than 4 characters among the 50 most frequent words."
      ]
    },
    {
      "cell_type": "code",
      "execution_count": 23,
      "metadata": {
        "id": "f-T01zPDH2-j"
      },
      "outputs": [
        {
          "data": {
            "text/plain": [
              "['Raskolnikov']"
            ]
          },
          "execution_count": 23,
          "metadata": {},
          "output_type": "execute_result"
        }
      ],
      "source": [
        "frequency_distribution = nltk.FreqDist(nltk_text)\n",
        "\n",
        "frequency_distribution.most_common(50)\n",
        "\n",
        "most_common_words_longer_than_4 = [word for (word, _) in frequency_distribution.most_common(50) if len(word) > 4]\n",
        "most_common_words_longer_than_4"
      ]
    },
    {
      "cell_type": "markdown",
      "metadata": {
        "id": "_YYLoyRuH2-j"
      },
      "source": [
        "**Display the cumulative frequency plot** of the 50 most frequent words of your text, for instance using examples from [Sec. 3.1 of Ch. 1 of the NLTK book](http://www.nltk.org/book/ch01.html#frequency-distributions).  You can either use the plotting functions from NLTK, or create two lists called `x_values` and `y_values`) and generate a plot with `plt.plot(x_values, y_values)`."
      ]
    },
    {
      "cell_type": "code",
      "execution_count": 26,
      "metadata": {
        "id": "Lfub4M3AH2-j"
      },
      "outputs": [],
      "source": [
        "# Before using matplotlib to display graphs inline, you must execute \n",
        "# the following two lines (assuming you already installed the library).\n",
        "import matplotlib.pyplot as plt\n",
        "%matplotlib inline"
      ]
    },
    {
      "cell_type": "code",
      "execution_count": 27,
      "metadata": {
        "id": "4riAhp8mH2-j"
      },
      "outputs": [
        {
          "data": {
            "image/png": "[encoded data removed]",
            "text/plain": [
              "<Figure size 432x288 with 1 Axes>"
            ]
          },
          "metadata": {
            "needs_background": "light"
          },
          "output_type": "display_data"
        },
        {
          "data": {
            "text/plain": [
              "<AxesSubplot:xlabel='Samples', ylabel='Cumulative Counts'>"
            ]
          },
          "execution_count": 27,
          "metadata": {},
          "output_type": "execute_result"
        }
      ],
      "source": [
        "frequency_distribution.plot(50, cumulative=True)"
      ]
    },
    {
      "cell_type": "markdown",
      "metadata": {
        "id": "4Mwvip6AH2-k"
      },
      "source": [
        "Generate a list of the number of occurrences of each word type, in decreasing order, from the `FreqDist` object.  Plot for the first 100 ranks the number of occurrences on the *y&nbsp;* axis and the rank of each value (1, 2, 3, ..., 100) on the *x&nbsp;* axis, using a log-log scale.  Add the plot of the function *y = a/x'b*, trying to set *a&nbsp;* and *b&nbsp;* so that the two lines are as close as possible (by trial and error, not using a formal method).  The behavior is in fact predicted by [Zipf's law](https://en.wikipedia.org/wiki/Zipf%27s_law)."
      ]
    },
    {
      "cell_type": "code",
      "execution_count": 52,
      "metadata": {
        "id": "HrH1WQHWH2-k"
      },
      "outputs": [
        {
          "name": "stderr",
          "output_type": "stream",
          "text": [
            "C:\\Users\\Matthias\\AppData\\Local\\Temp\\ipykernel_25760\\2256289858.py:4: RuntimeWarning: divide by zero encountered in log\n",
            "  plt.plot(np.log([i for i in range(100)]), np.log([item[1] for item in most_common_words_sorted]), label='data')\n",
            "C:\\Users\\Matthias\\AppData\\Local\\Temp\\ipykernel_25760\\2256289858.py:5: RuntimeWarning: divide by zero encountered in log\n",
            "  plt.plot(np.log([i for i in range(100)]), [np.log(450/(x)*80) for x in [i for i in range(1,101)]], label='approximation')\n"
          ]
        },
        {
          "data": {
            "text/plain": [
              "<matplotlib.legend.Legend at 0x2c3b4bf6050>"
            ]
          },
          "execution_count": 52,
          "metadata": {},
          "output_type": "execute_result"
        },
        {
          "data": {
            "image/png": "[encoded data removed]",
            "text/plain": [
              "<Figure size 432x288 with 1 Axes>"
            ]
          },
          "metadata": {
            "needs_background": "light"
          },
          "output_type": "display_data"
        }
      ],
      "source": [
        "import numpy as np\n",
        "most_common_words_sorted = sorted(frequency_distribution.most_common(100), key=lambda item: item[1], reverse=True)\n",
        "\n",
        "plt.plot(np.log([i for i in range(100)]), np.log([item[1] for item in most_common_words_sorted]), label='data')\n",
        "plt.plot(np.log([i for i in range(100)]), [np.log(450/(x)*80) for x in [i for i in range(1,101)]], label='approximation')\n",
        "plt.xlabel(\"Rank\")\n",
        "plt.ylabel(\"Number of occurences\")\n",
        "plt.legend()\n"
      ]
    },
    {
      "cell_type": "markdown",
      "metadata": {
        "id": "WGbolgXHH2-k"
      },
      "source": [
        "## Processing markup with Beautiful Soup\n",
        "To extract text from an HTML or XML file, you can use the `BeautifulSoup` Python package.  Some examples are found in  [Chapter 3 of the NLTK book](http://www.nltk.org/book/ch03.html).  The simplest way is using `get_text`, but this will also get text from tables, image captions, etc. You can also check the \n",
        "[BeautifulSoup documentation](https://beautiful-soup-4.readthedocs.io/en/latest/) or tutorials [here](https://matix.io/extract-text-from-webpage-using-beautifulsoup-and-python/) or [here](https://www.pluralsight.com/guides/extracting-data-html-beautifulsoup)."
      ]
    },
    {
      "cell_type": "code",
      "execution_count": 53,
      "metadata": {
        "id": "QbcaM9V5H2-k"
      },
      "outputs": [],
      "source": [
        "from urllib import request # if needed\n",
        "from bs4 import BeautifulSoup"
      ]
    },
    {
      "cell_type": "code",
      "execution_count": 54,
      "metadata": {
        "id": "XcoGFyQGH2-k"
      },
      "outputs": [],
      "source": [
        "# Sample code : extracted text is the \"raw2\" string.\n",
        "url2 = \"https://en.wikipedia.org/wiki/Switzerland\" \n",
        "response2 = request.urlopen(url2)\n",
        "html2 = response2.read().decode('utf8')\n",
        "raw2 = BeautifulSoup(html2).get_text()"
      ]
    },
    {
      "cell_type": "markdown",
      "metadata": {
        "id": "8Z5LszHHH2-k"
      },
      "source": [
        "**What are the number of tokens, types and TTR** of the Wikipedia page at `url2`?"
      ]
    },
    {
      "cell_type": "code",
      "execution_count": 55,
      "metadata": {
        "id": "R_zCAzekH2-l"
      },
      "outputs": [
        {
          "name": "stdout",
          "output_type": "stream",
          "text": [
            "Number of tokens: 30047\n",
            "Number of types: 6262\n",
            "TTR:  0.20840682930076215\n"
          ]
        }
      ],
      "source": [
        "beautiful_soup_tokens = nltk.word_tokenize(raw2)\n",
        "beautiful_soup_types = set([t for t in beautiful_soup_tokens])\n",
        "\n",
        "print(f'Number of tokens: {len(beautiful_soup_tokens)}')\n",
        "print(f'Number of types: {len(beautiful_soup_types)}')\n",
        "print(\"TTR: \", len(beautiful_soup_types)/len(beautiful_soup_tokens))"
      ]
    },
    {
      "cell_type": "markdown",
      "metadata": {
        "id": "N_OIBKLvH2-l"
      },
      "source": [
        "## More advanced pre-processing options\n",
        "Please read and experiment with the notebook `MSE_AnTeDe_TextPreprocessingDemo.ipynb`, where you will find more advanced pre-processing options:\n",
        "1. a set of NLTK functions for lemmatization and stemming;\n",
        "2. the in-house class `TextPreprocessing`;\n",
        "3. gensim's `preprocess_documents` function.\n",
        "\n",
        "The underlying definitions and methods of some of them will be presented in the following lessons of AnTeDe, and you will be able to use them in future lab work."
      ]
    },
    {
      "cell_type": "markdown",
      "metadata": {
        "id": "J-d4uEIwH2-l"
      },
      "source": [
        "## End of AnTeDe Lab 1\n",
        "Please rerun anew all cells via \"Runtime > Restart and run all\", save this completed notebook, compress it to a *zip* file, and upload it to Moodle."
      ]
    }
  ],
  "metadata": {
    "colab": {
      "collapsed_sections": [],
      "name": "MSE_AnTeDe_Lab1_student.ipynb",
      "provenance": []
    },
    "kernelspec": {
      "display_name": "Python 3",
      "language": "python",
      "name": "python3"
    },
    "language_info": {
      "codemirror_mode": {
        "name": "ipython",
        "version": 3
      },
      "file_extension": ".py",
      "mimetype": "text/x-python",
      "name": "python",
      "nbconvert_exporter": "python",
      "pygments_lexer": "ipython3",
      "version": "3.10.0"
    }
  },
  "nbformat": 4,
  "nbformat_minor": 0
}
